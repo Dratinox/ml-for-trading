{
 "cells": [
  {
   "cell_type": "markdown",
   "metadata": {},
   "source": [
    "# Engineering Predictive Alpha Factors"
   ]
  },
  {
   "cell_type": "markdown",
   "metadata": {},
   "source": [
    "This notebook illustrates the following steps:\n",
    "\n",
    "1. Select the adjusted open, high, low, and close prices as well as the volume for all tickers from the Quandl Wiki data that you downloaded and simplified for the last milestone for the 2007-2016 time period. Looking ahead, we will use 2014-2016 as our 'out-of-sample' period to test the performance of a strategy based on a machine learning model selected using data from preceding periods.\n",
    "2. Compute the dollar volume as the product of closing price and trading volume; then select the stocks with at least eight years of data and the lowest average daily rank for this metric. \n",
    "3. Compute daily returns and keep only 'inliers' with values between -100% and + 100% as a basic check against data error.\n",
    "4. Now we're ready to compute financial features. The Alpha Factory Library listed among the resources below illustrates how to compute a broad range of those using pandas and TA-Lib. We will list a few examples; feel free to explore and evaluate the various TA-Lib indicators.\n",
    "    - Compute **historical returns** for various time ranges such as 1, 3, 5, 10, 21 trading days, as well as longer periods like 2, 3, 6 and 12 months.\n",
    "    - Use TA-Lib's **Bollinger Band** indicator to create features that anticipate **mean-reversion**.\n",
    "    - Select some indicators from TA-Lib's **momentum** indicators family such as\n",
    "        - the Average Directional Movement Index (ADX), \n",
    "        - the Moving Average Convergence Divergence (MACD), \n",
    "        - the Relative Strength Index (RSI), \n",
    "        - the Balance of Power (BOP) indictor, or \n",
    "        - the Money Flow Index (MFI).\n",
    "    - Compute TA-Lib **volume** indicators like On Balance Volume (OBV) or the Chaikin A/D Oscillator (ADOSC)\n",
    "    - Create volatility metrics such as the Normalized Average True Range (NATR).\n",
    "    - Compute rolling factor betas using the five Fama-French risk factors for different rolling windows of three and 12 months (see resources below).\n",
    "    - Compute the outcome variable that we will aim to predict, namely the 1-day forward returns."
   ]
  },
  {
   "cell_type": "markdown",
   "metadata": {},
   "source": [
    "## Usage tips\n",
    "\n",
    "- If you experience resource constraints (suddenly restarting Kernel), increase the memory available for Docker Desktop (> Settings > Advanced). If this not possible or you experienced prolonged execution times, reduce the scope of the exercise. The easiest way to do so is to select fewer stocks or a shorter time period, or both.\n",
    "- You may want to persist intermediate results so you can recover quickly in case something goes wrong. There's an example under the first 'Persist Results' subsection."
   ]
  },
  {
   "cell_type": "markdown",
   "metadata": {},
   "source": [
    "## Imports & Settings"
   ]
  },
  {
   "cell_type": "code",
   "execution_count": 2,
   "metadata": {
    "ExecuteTime": {
     "end_time": "2020-07-14T13:15:13.439296Z",
     "start_time": "2020-07-14T13:15:13.437658Z"
    }
   },
   "outputs": [],
   "source": [
    "import warnings\n",
    "warnings.filterwarnings('ignore')"
   ]
  },
  {
   "cell_type": "code",
   "execution_count": 3,
   "metadata": {
    "ExecuteTime": {
     "end_time": "2020-07-14T13:15:14.100318Z",
     "start_time": "2020-07-14T13:15:13.442824Z"
    }
   },
   "outputs": [],
   "source": [
    "%matplotlib inline\n",
    "\n",
    "from pathlib import Path\n",
    "import numpy as np\n",
    "import pandas as pd\n",
    "import pandas_datareader.data as web\n",
    "\n",
    "import statsmodels.api as sm\n",
    "from statsmodels.regression.rolling import RollingOLS\n",
    "from sklearn.preprocessing import scale\n",
    "import talib\n",
    "\n",
    "import matplotlib.pyplot as plt\n",
    "import seaborn as sns"
   ]
  },
  {
   "cell_type": "code",
   "execution_count": 4,
   "metadata": {
    "ExecuteTime": {
     "end_time": "2020-07-14T13:15:14.104107Z",
     "start_time": "2020-07-14T13:15:14.101491Z"
    }
   },
   "outputs": [],
   "source": [
    "sns.set_style('whitegrid')\n",
    "idx = pd.IndexSlice\n",
    "deciles = np.arange(.1, 1, .1).round(1)"
   ]
  },
  {
   "cell_type": "markdown",
   "metadata": {},
   "source": [
    "## Load Data"
   ]
  },
  {
   "cell_type": "code",
   "execution_count": 5,
   "metadata": {
    "ExecuteTime": {
     "end_time": "2020-07-14T13:15:14.120940Z",
     "start_time": "2020-07-14T13:15:14.105281Z"
    }
   },
   "outputs": [],
   "source": [
    "DATA_STORE = Path('..', '01_set_up_environment_and_data', 'us_stocks.h5')"
   ]
  },
  {
   "cell_type": "code",
   "execution_count": 6,
   "metadata": {
    "ExecuteTime": {
     "end_time": "2021-02-06T01:59:37.856956Z",
     "start_time": "2021-02-06T01:59:37.799466Z"
    }
   },
   "outputs": [],
   "source": [
    "with pd.HDFStore(DATA_STORE) as store:\n",
    "    df = store.select('df')"
   ]
  },
  {
   "cell_type": "markdown",
   "metadata": {},
   "source": [
    "## Select 500 most-traded stocks prior to 2017"
   ]
  },
  {
   "cell_type": "markdown",
   "metadata": {},
   "source": [
    "Compute the dollar volume as the product of the adjusted close price and the adjusted volume:"
   ]
  },
  {
   "cell_type": "code",
   "execution_count": 7,
   "metadata": {},
   "outputs": [],
   "source": [
    "df = df.drop(columns=['ex-dividend', 'split_ratio'])"
   ]
  },
  {
   "cell_type": "code",
   "execution_count": 8,
   "metadata": {},
   "outputs": [],
   "source": [
    "df['dollar_volume'] = df['close'] * df['volume']"
   ]
  },
  {
   "cell_type": "code",
   "execution_count": 9,
   "metadata": {},
   "outputs": [],
   "source": [
    "df = df.loc[idx[:, '2007':'2016'], :]"
   ]
  },
  {
   "cell_type": "code",
   "execution_count": 10,
   "metadata": {},
   "outputs": [
    {
     "data": {
      "text/html": [
       "<div>\n",
       "<style scoped>\n",
       "    .dataframe tbody tr th:only-of-type {\n",
       "        vertical-align: middle;\n",
       "    }\n",
       "\n",
       "    .dataframe tbody tr th {\n",
       "        vertical-align: top;\n",
       "    }\n",
       "\n",
       "    .dataframe thead th {\n",
       "        text-align: right;\n",
       "    }\n",
       "</style>\n",
       "<table border=\"1\" class=\"dataframe\">\n",
       "  <thead>\n",
       "    <tr style=\"text-align: right;\">\n",
       "      <th></th>\n",
       "      <th></th>\n",
       "      <th>open</th>\n",
       "      <th>high</th>\n",
       "      <th>low</th>\n",
       "      <th>close</th>\n",
       "      <th>volume</th>\n",
       "      <th>dollar_volume</th>\n",
       "    </tr>\n",
       "    <tr>\n",
       "      <th>ticker</th>\n",
       "      <th>date</th>\n",
       "      <th></th>\n",
       "      <th></th>\n",
       "      <th></th>\n",
       "      <th></th>\n",
       "      <th></th>\n",
       "      <th></th>\n",
       "    </tr>\n",
       "  </thead>\n",
       "  <tbody>\n",
       "    <tr>\n",
       "      <th rowspan=\"11\" valign=\"top\">AAPL</th>\n",
       "      <th>2007-01-03</th>\n",
       "      <td>11.089468</td>\n",
       "      <td>11.126737</td>\n",
       "      <td>10.525291</td>\n",
       "      <td>10.769468</td>\n",
       "      <td>309579900.0</td>\n",
       "      <td>3.334011e+09</td>\n",
       "    </tr>\n",
       "    <tr>\n",
       "      <th>2007-01-04</th>\n",
       "      <td>10.801596</td>\n",
       "      <td>11.045773</td>\n",
       "      <td>10.772038</td>\n",
       "      <td>11.008504</td>\n",
       "      <td>211815100.0</td>\n",
       "      <td>2.331767e+09</td>\n",
       "    </tr>\n",
       "    <tr>\n",
       "      <th>2007-01-05</th>\n",
       "      <td>11.022640</td>\n",
       "      <td>11.077901</td>\n",
       "      <td>10.846576</td>\n",
       "      <td>10.930110</td>\n",
       "      <td>208685400.0</td>\n",
       "      <td>2.280954e+09</td>\n",
       "    </tr>\n",
       "    <tr>\n",
       "      <th>2007-01-08</th>\n",
       "      <td>11.047058</td>\n",
       "      <td>11.120311</td>\n",
       "      <td>10.959669</td>\n",
       "      <td>10.984086</td>\n",
       "      <td>199276700.0</td>\n",
       "      <td>2.188872e+09</td>\n",
       "    </tr>\n",
       "    <tr>\n",
       "      <th>2007-01-09</th>\n",
       "      <td>11.110030</td>\n",
       "      <td>11.949226</td>\n",
       "      <td>10.942962</td>\n",
       "      <td>11.896535</td>\n",
       "      <td>837324600.0</td>\n",
       "      <td>9.961262e+09</td>\n",
       "    </tr>\n",
       "    <tr>\n",
       "      <th>...</th>\n",
       "      <td>...</td>\n",
       "      <td>...</td>\n",
       "      <td>...</td>\n",
       "      <td>...</td>\n",
       "      <td>...</td>\n",
       "      <td>...</td>\n",
       "    </tr>\n",
       "    <tr>\n",
       "      <th>2016-12-23</th>\n",
       "      <td>114.162295</td>\n",
       "      <td>115.080808</td>\n",
       "      <td>114.162295</td>\n",
       "      <td>115.080808</td>\n",
       "      <td>14249484.0</td>\n",
       "      <td>1.639842e+09</td>\n",
       "    </tr>\n",
       "    <tr>\n",
       "      <th>2016-12-27</th>\n",
       "      <td>115.080808</td>\n",
       "      <td>116.344998</td>\n",
       "      <td>115.051178</td>\n",
       "      <td>115.811668</td>\n",
       "      <td>18296855.0</td>\n",
       "      <td>2.118989e+09</td>\n",
       "    </tr>\n",
       "    <tr>\n",
       "      <th>2016-12-28</th>\n",
       "      <td>116.068456</td>\n",
       "      <td>116.558923</td>\n",
       "      <td>114.764760</td>\n",
       "      <td>115.317843</td>\n",
       "      <td>20905892.0</td>\n",
       "      <td>2.410822e+09</td>\n",
       "    </tr>\n",
       "    <tr>\n",
       "      <th>2016-12-29</th>\n",
       "      <td>115.011672</td>\n",
       "      <td>115.663027</td>\n",
       "      <td>114.962290</td>\n",
       "      <td>115.288214</td>\n",
       "      <td>15039519.0</td>\n",
       "      <td>1.733879e+09</td>\n",
       "    </tr>\n",
       "    <tr>\n",
       "      <th>2016-12-30</th>\n",
       "      <td>115.209202</td>\n",
       "      <td>115.752409</td>\n",
       "      <td>114.004271</td>\n",
       "      <td>114.389454</td>\n",
       "      <td>30586265.0</td>\n",
       "      <td>3.498746e+09</td>\n",
       "    </tr>\n",
       "  </tbody>\n",
       "</table>\n",
       "<p>2518 rows × 6 columns</p>\n",
       "</div>"
      ],
      "text/plain": [
       "                         open        high         low       close  \\\n",
       "ticker date                                                         \n",
       "AAPL   2007-01-03   11.089468   11.126737   10.525291   10.769468   \n",
       "       2007-01-04   10.801596   11.045773   10.772038   11.008504   \n",
       "       2007-01-05   11.022640   11.077901   10.846576   10.930110   \n",
       "       2007-01-08   11.047058   11.120311   10.959669   10.984086   \n",
       "       2007-01-09   11.110030   11.949226   10.942962   11.896535   \n",
       "...                       ...         ...         ...         ...   \n",
       "       2016-12-23  114.162295  115.080808  114.162295  115.080808   \n",
       "       2016-12-27  115.080808  116.344998  115.051178  115.811668   \n",
       "       2016-12-28  116.068456  116.558923  114.764760  115.317843   \n",
       "       2016-12-29  115.011672  115.663027  114.962290  115.288214   \n",
       "       2016-12-30  115.209202  115.752409  114.004271  114.389454   \n",
       "\n",
       "                        volume  dollar_volume  \n",
       "ticker date                                    \n",
       "AAPL   2007-01-03  309579900.0   3.334011e+09  \n",
       "       2007-01-04  211815100.0   2.331767e+09  \n",
       "       2007-01-05  208685400.0   2.280954e+09  \n",
       "       2007-01-08  199276700.0   2.188872e+09  \n",
       "       2007-01-09  837324600.0   9.961262e+09  \n",
       "...                        ...            ...  \n",
       "       2016-12-23   14249484.0   1.639842e+09  \n",
       "       2016-12-27   18296855.0   2.118989e+09  \n",
       "       2016-12-28   20905892.0   2.410822e+09  \n",
       "       2016-12-29   15039519.0   1.733879e+09  \n",
       "       2016-12-30   30586265.0   3.498746e+09  \n",
       "\n",
       "[2518 rows x 6 columns]"
      ]
     },
     "execution_count": 10,
     "metadata": {},
     "output_type": "execute_result"
    }
   ],
   "source": [
    "df.loc[idx['AAPL', :], :]"
   ]
  },
  {
   "cell_type": "code",
   "execution_count": 11,
   "metadata": {},
   "outputs": [],
   "source": [
    "eight_years = df.groupby(level=['ticker']).count() == 2518"
   ]
  },
  {
   "cell_type": "code",
   "execution_count": 12,
   "metadata": {},
   "outputs": [],
   "source": [
    "eight_years = eight_years[eight_years['open'] == True]"
   ]
  },
  {
   "cell_type": "code",
   "execution_count": 13,
   "metadata": {},
   "outputs": [],
   "source": [
    "stocks = eight_years.index.values"
   ]
  },
  {
   "cell_type": "code",
   "execution_count": 14,
   "metadata": {},
   "outputs": [],
   "source": [
    "df = df[df.index.isin(stocks, level='ticker')]"
   ]
  },
  {
   "cell_type": "code",
   "execution_count": 15,
   "metadata": {},
   "outputs": [],
   "source": [
    "best_500 = df.groupby(level=['ticker']).mean()['dollar_volume'].nlargest(500)"
   ]
  },
  {
   "cell_type": "code",
   "execution_count": 16,
   "metadata": {},
   "outputs": [],
   "source": [
    "best_500_values = best_500.index.values"
   ]
  },
  {
   "cell_type": "code",
   "execution_count": 17,
   "metadata": {},
   "outputs": [],
   "source": [
    "df = df[df.index.isin(best_500_values, level='ticker')]"
   ]
  },
  {
   "cell_type": "markdown",
   "metadata": {},
   "source": [
    "## Remove outliers based on daily returns"
   ]
  },
  {
   "cell_type": "code",
   "execution_count": 24,
   "metadata": {},
   "outputs": [],
   "source": [
    "df['daily_return'] = df['close'] - df['open']"
   ]
  },
  {
   "cell_type": "code",
   "execution_count": 27,
   "metadata": {},
   "outputs": [],
   "source": [
    "df = df[(df['daily_return'] <= 1) & (df['daily_return'] >= -1)]"
   ]
  },
  {
   "cell_type": "code",
   "execution_count": 28,
   "metadata": {},
   "outputs": [
    {
     "data": {
      "text/html": [
       "<div>\n",
       "<style scoped>\n",
       "    .dataframe tbody tr th:only-of-type {\n",
       "        vertical-align: middle;\n",
       "    }\n",
       "\n",
       "    .dataframe tbody tr th {\n",
       "        vertical-align: top;\n",
       "    }\n",
       "\n",
       "    .dataframe thead th {\n",
       "        text-align: right;\n",
       "    }\n",
       "</style>\n",
       "<table border=\"1\" class=\"dataframe\">\n",
       "  <thead>\n",
       "    <tr style=\"text-align: right;\">\n",
       "      <th></th>\n",
       "      <th></th>\n",
       "      <th>open</th>\n",
       "      <th>high</th>\n",
       "      <th>low</th>\n",
       "      <th>close</th>\n",
       "      <th>volume</th>\n",
       "      <th>dollar_volume</th>\n",
       "      <th>daily_return</th>\n",
       "    </tr>\n",
       "    <tr>\n",
       "      <th>ticker</th>\n",
       "      <th>date</th>\n",
       "      <th></th>\n",
       "      <th></th>\n",
       "      <th></th>\n",
       "      <th></th>\n",
       "      <th></th>\n",
       "      <th></th>\n",
       "      <th></th>\n",
       "    </tr>\n",
       "  </thead>\n",
       "  <tbody>\n",
       "    <tr>\n",
       "      <th rowspan=\"5\" valign=\"top\">A</th>\n",
       "      <th>2007-01-03</th>\n",
       "      <td>23.871602</td>\n",
       "      <td>24.205900</td>\n",
       "      <td>23.230295</td>\n",
       "      <td>23.400856</td>\n",
       "      <td>2574600.0</td>\n",
       "      <td>6.024784e+07</td>\n",
       "      <td>-0.470746</td>\n",
       "    </tr>\n",
       "    <tr>\n",
       "      <th>2007-01-04</th>\n",
       "      <td>23.400856</td>\n",
       "      <td>23.605528</td>\n",
       "      <td>22.827773</td>\n",
       "      <td>23.475902</td>\n",
       "      <td>2073700.0</td>\n",
       "      <td>4.868198e+07</td>\n",
       "      <td>0.075046</td>\n",
       "    </tr>\n",
       "    <tr>\n",
       "      <th>2007-01-05</th>\n",
       "      <td>23.400856</td>\n",
       "      <td>23.469080</td>\n",
       "      <td>23.196183</td>\n",
       "      <td>23.257585</td>\n",
       "      <td>2676600.0</td>\n",
       "      <td>6.225125e+07</td>\n",
       "      <td>-0.143271</td>\n",
       "    </tr>\n",
       "    <tr>\n",
       "      <th>2007-01-08</th>\n",
       "      <td>23.182539</td>\n",
       "      <td>23.250763</td>\n",
       "      <td>22.977866</td>\n",
       "      <td>23.175716</td>\n",
       "      <td>1557200.0</td>\n",
       "      <td>3.608923e+07</td>\n",
       "      <td>-0.006822</td>\n",
       "    </tr>\n",
       "    <tr>\n",
       "      <th>2007-01-09</th>\n",
       "      <td>23.250763</td>\n",
       "      <td>23.414500</td>\n",
       "      <td>22.943754</td>\n",
       "      <td>23.203006</td>\n",
       "      <td>1386200.0</td>\n",
       "      <td>3.216401e+07</td>\n",
       "      <td>-0.047757</td>\n",
       "    </tr>\n",
       "    <tr>\n",
       "      <th>...</th>\n",
       "      <th>...</th>\n",
       "      <td>...</td>\n",
       "      <td>...</td>\n",
       "      <td>...</td>\n",
       "      <td>...</td>\n",
       "      <td>...</td>\n",
       "      <td>...</td>\n",
       "      <td>...</td>\n",
       "    </tr>\n",
       "    <tr>\n",
       "      <th rowspan=\"5\" valign=\"top\">ZION</th>\n",
       "      <th>2016-12-23</th>\n",
       "      <td>43.500959</td>\n",
       "      <td>43.659939</td>\n",
       "      <td>43.309189</td>\n",
       "      <td>43.580449</td>\n",
       "      <td>1243449.0</td>\n",
       "      <td>5.419007e+07</td>\n",
       "      <td>0.079490</td>\n",
       "    </tr>\n",
       "    <tr>\n",
       "      <th>2016-12-27</th>\n",
       "      <td>43.818919</td>\n",
       "      <td>43.868601</td>\n",
       "      <td>43.391660</td>\n",
       "      <td>43.650003</td>\n",
       "      <td>1096332.0</td>\n",
       "      <td>4.785489e+07</td>\n",
       "      <td>-0.168916</td>\n",
       "    </tr>\n",
       "    <tr>\n",
       "      <th>2016-12-28</th>\n",
       "      <td>43.749366</td>\n",
       "      <td>43.749366</td>\n",
       "      <td>42.904783</td>\n",
       "      <td>43.004146</td>\n",
       "      <td>1055176.0</td>\n",
       "      <td>4.537694e+07</td>\n",
       "      <td>-0.745220</td>\n",
       "    </tr>\n",
       "    <tr>\n",
       "      <th>2016-12-29</th>\n",
       "      <td>42.994210</td>\n",
       "      <td>43.361851</td>\n",
       "      <td>42.358289</td>\n",
       "      <td>42.517269</td>\n",
       "      <td>1551615.0</td>\n",
       "      <td>6.597043e+07</td>\n",
       "      <td>-0.476941</td>\n",
       "    </tr>\n",
       "    <tr>\n",
       "      <th>2016-12-30</th>\n",
       "      <td>42.795484</td>\n",
       "      <td>43.033955</td>\n",
       "      <td>42.417906</td>\n",
       "      <td>42.765676</td>\n",
       "      <td>1938930.0</td>\n",
       "      <td>8.291965e+07</td>\n",
       "      <td>-0.029809</td>\n",
       "    </tr>\n",
       "  </tbody>\n",
       "</table>\n",
       "<p>1069469 rows × 7 columns</p>\n",
       "</div>"
      ],
      "text/plain": [
       "                        open       high        low      close     volume  \\\n",
       "ticker date                                                                \n",
       "A      2007-01-03  23.871602  24.205900  23.230295  23.400856  2574600.0   \n",
       "       2007-01-04  23.400856  23.605528  22.827773  23.475902  2073700.0   \n",
       "       2007-01-05  23.400856  23.469080  23.196183  23.257585  2676600.0   \n",
       "       2007-01-08  23.182539  23.250763  22.977866  23.175716  1557200.0   \n",
       "       2007-01-09  23.250763  23.414500  22.943754  23.203006  1386200.0   \n",
       "...                      ...        ...        ...        ...        ...   \n",
       "ZION   2016-12-23  43.500959  43.659939  43.309189  43.580449  1243449.0   \n",
       "       2016-12-27  43.818919  43.868601  43.391660  43.650003  1096332.0   \n",
       "       2016-12-28  43.749366  43.749366  42.904783  43.004146  1055176.0   \n",
       "       2016-12-29  42.994210  43.361851  42.358289  42.517269  1551615.0   \n",
       "       2016-12-30  42.795484  43.033955  42.417906  42.765676  1938930.0   \n",
       "\n",
       "                   dollar_volume  daily_return  \n",
       "ticker date                                     \n",
       "A      2007-01-03   6.024784e+07     -0.470746  \n",
       "       2007-01-04   4.868198e+07      0.075046  \n",
       "       2007-01-05   6.225125e+07     -0.143271  \n",
       "       2007-01-08   3.608923e+07     -0.006822  \n",
       "       2007-01-09   3.216401e+07     -0.047757  \n",
       "...                          ...           ...  \n",
       "ZION   2016-12-23   5.419007e+07      0.079490  \n",
       "       2016-12-27   4.785489e+07     -0.168916  \n",
       "       2016-12-28   4.537694e+07     -0.745220  \n",
       "       2016-12-29   6.597043e+07     -0.476941  \n",
       "       2016-12-30   8.291965e+07     -0.029809  \n",
       "\n",
       "[1069469 rows x 7 columns]"
      ]
     },
     "execution_count": 28,
     "metadata": {},
     "output_type": "execute_result"
    }
   ],
   "source": [
    "df"
   ]
  },
  {
   "cell_type": "markdown",
   "metadata": {},
   "source": [
    "## Compute returns"
   ]
  },
  {
   "cell_type": "markdown",
   "metadata": {},
   "source": [
    "## Bollinger Bands"
   ]
  },
  {
   "cell_type": "code",
   "execution_count": 30,
   "metadata": {},
   "outputs": [],
   "source": [
    "upper, middle, lower = talib.BBANDS(df['close'], timeperiod=5)\n",
    "bbands = pd.DataFrame({'upper': upper, 'middle': middle, 'lower': lower})"
   ]
  },
  {
   "cell_type": "code",
   "execution_count": 37,
   "metadata": {},
   "outputs": [
    {
     "data": {
      "text/html": [
       "<div>\n",
       "<style scoped>\n",
       "    .dataframe tbody tr th:only-of-type {\n",
       "        vertical-align: middle;\n",
       "    }\n",
       "\n",
       "    .dataframe tbody tr th {\n",
       "        vertical-align: top;\n",
       "    }\n",
       "\n",
       "    .dataframe thead th {\n",
       "        text-align: right;\n",
       "    }\n",
       "</style>\n",
       "<table border=\"1\" class=\"dataframe\">\n",
       "  <thead>\n",
       "    <tr style=\"text-align: right;\">\n",
       "      <th></th>\n",
       "      <th></th>\n",
       "      <th>upper</th>\n",
       "      <th>middle</th>\n",
       "      <th>lower</th>\n",
       "    </tr>\n",
       "    <tr>\n",
       "      <th>ticker</th>\n",
       "      <th>date</th>\n",
       "      <th></th>\n",
       "      <th></th>\n",
       "      <th></th>\n",
       "    </tr>\n",
       "  </thead>\n",
       "  <tbody>\n",
       "    <tr>\n",
       "      <th rowspan=\"5\" valign=\"top\">A</th>\n",
       "      <th>2007-01-03</th>\n",
       "      <td>NaN</td>\n",
       "      <td>NaN</td>\n",
       "      <td>NaN</td>\n",
       "    </tr>\n",
       "    <tr>\n",
       "      <th>2007-01-04</th>\n",
       "      <td>NaN</td>\n",
       "      <td>NaN</td>\n",
       "      <td>NaN</td>\n",
       "    </tr>\n",
       "    <tr>\n",
       "      <th>2007-01-05</th>\n",
       "      <td>NaN</td>\n",
       "      <td>NaN</td>\n",
       "      <td>NaN</td>\n",
       "    </tr>\n",
       "    <tr>\n",
       "      <th>2007-01-08</th>\n",
       "      <td>NaN</td>\n",
       "      <td>NaN</td>\n",
       "      <td>NaN</td>\n",
       "    </tr>\n",
       "    <tr>\n",
       "      <th>2007-01-09</th>\n",
       "      <td>23.535392</td>\n",
       "      <td>23.302613</td>\n",
       "      <td>23.069834</td>\n",
       "    </tr>\n",
       "    <tr>\n",
       "      <th>...</th>\n",
       "      <th>...</th>\n",
       "      <td>...</td>\n",
       "      <td>...</td>\n",
       "      <td>...</td>\n",
       "    </tr>\n",
       "    <tr>\n",
       "      <th rowspan=\"5\" valign=\"top\">ZION</th>\n",
       "      <th>2016-12-23</th>\n",
       "      <td>44.176751</td>\n",
       "      <td>43.292297</td>\n",
       "      <td>42.407844</td>\n",
       "    </tr>\n",
       "    <tr>\n",
       "      <th>2016-12-27</th>\n",
       "      <td>43.755378</td>\n",
       "      <td>43.536730</td>\n",
       "      <td>43.318081</td>\n",
       "    </tr>\n",
       "    <tr>\n",
       "      <th>2016-12-28</th>\n",
       "      <td>43.864354</td>\n",
       "      <td>43.411533</td>\n",
       "      <td>42.958711</td>\n",
       "    </tr>\n",
       "    <tr>\n",
       "      <th>2016-12-29</th>\n",
       "      <td>44.096260</td>\n",
       "      <td>43.242616</td>\n",
       "      <td>42.388972</td>\n",
       "    </tr>\n",
       "    <tr>\n",
       "      <th>2016-12-30</th>\n",
       "      <td>43.995166</td>\n",
       "      <td>43.103508</td>\n",
       "      <td>42.211851</td>\n",
       "    </tr>\n",
       "  </tbody>\n",
       "</table>\n",
       "<p>1069469 rows × 3 columns</p>\n",
       "</div>"
      ],
      "text/plain": [
       "                       upper     middle      lower\n",
       "ticker date                                       \n",
       "A      2007-01-03        NaN        NaN        NaN\n",
       "       2007-01-04        NaN        NaN        NaN\n",
       "       2007-01-05        NaN        NaN        NaN\n",
       "       2007-01-08        NaN        NaN        NaN\n",
       "       2007-01-09  23.535392  23.302613  23.069834\n",
       "...                      ...        ...        ...\n",
       "ZION   2016-12-23  44.176751  43.292297  42.407844\n",
       "       2016-12-27  43.755378  43.536730  43.318081\n",
       "       2016-12-28  43.864354  43.411533  42.958711\n",
       "       2016-12-29  44.096260  43.242616  42.388972\n",
       "       2016-12-30  43.995166  43.103508  42.211851\n",
       "\n",
       "[1069469 rows x 3 columns]"
      ]
     },
     "execution_count": 37,
     "metadata": {},
     "output_type": "execute_result"
    }
   ],
   "source": [
    "bbands"
   ]
  },
  {
   "cell_type": "code",
   "execution_count": 40,
   "metadata": {},
   "outputs": [],
   "source": [
    "macd, macdsignal, macdhist = talib.MACD(df['close'], fastperiod=12, slowperiod=26, signalperiod=9)\n",
    "macd_df = pd.DataFrame({'macd': macd, 'macdsignal': macdsignal, 'macdhist': macdhist})"
   ]
  },
  {
   "cell_type": "code",
   "execution_count": 41,
   "metadata": {},
   "outputs": [
    {
     "data": {
      "text/html": [
       "<div>\n",
       "<style scoped>\n",
       "    .dataframe tbody tr th:only-of-type {\n",
       "        vertical-align: middle;\n",
       "    }\n",
       "\n",
       "    .dataframe tbody tr th {\n",
       "        vertical-align: top;\n",
       "    }\n",
       "\n",
       "    .dataframe thead th {\n",
       "        text-align: right;\n",
       "    }\n",
       "</style>\n",
       "<table border=\"1\" class=\"dataframe\">\n",
       "  <thead>\n",
       "    <tr style=\"text-align: right;\">\n",
       "      <th></th>\n",
       "      <th></th>\n",
       "      <th>macd</th>\n",
       "      <th>macdsignal</th>\n",
       "      <th>macdhist</th>\n",
       "    </tr>\n",
       "    <tr>\n",
       "      <th>ticker</th>\n",
       "      <th>date</th>\n",
       "      <th></th>\n",
       "      <th></th>\n",
       "      <th></th>\n",
       "    </tr>\n",
       "  </thead>\n",
       "  <tbody>\n",
       "    <tr>\n",
       "      <th rowspan=\"5\" valign=\"top\">A</th>\n",
       "      <th>2007-01-03</th>\n",
       "      <td>NaN</td>\n",
       "      <td>NaN</td>\n",
       "      <td>NaN</td>\n",
       "    </tr>\n",
       "    <tr>\n",
       "      <th>2007-01-04</th>\n",
       "      <td>NaN</td>\n",
       "      <td>NaN</td>\n",
       "      <td>NaN</td>\n",
       "    </tr>\n",
       "    <tr>\n",
       "      <th>2007-01-05</th>\n",
       "      <td>NaN</td>\n",
       "      <td>NaN</td>\n",
       "      <td>NaN</td>\n",
       "    </tr>\n",
       "    <tr>\n",
       "      <th>2007-01-08</th>\n",
       "      <td>NaN</td>\n",
       "      <td>NaN</td>\n",
       "      <td>NaN</td>\n",
       "    </tr>\n",
       "    <tr>\n",
       "      <th>2007-01-09</th>\n",
       "      <td>NaN</td>\n",
       "      <td>NaN</td>\n",
       "      <td>NaN</td>\n",
       "    </tr>\n",
       "    <tr>\n",
       "      <th>...</th>\n",
       "      <th>...</th>\n",
       "      <td>...</td>\n",
       "      <td>...</td>\n",
       "      <td>...</td>\n",
       "    </tr>\n",
       "    <tr>\n",
       "      <th rowspan=\"5\" valign=\"top\">ZION</th>\n",
       "      <th>2016-12-23</th>\n",
       "      <td>1.967021</td>\n",
       "      <td>2.080357</td>\n",
       "      <td>-0.113336</td>\n",
       "    </tr>\n",
       "    <tr>\n",
       "      <th>2016-12-27</th>\n",
       "      <td>1.916461</td>\n",
       "      <td>2.047578</td>\n",
       "      <td>-0.131116</td>\n",
       "    </tr>\n",
       "    <tr>\n",
       "      <th>2016-12-28</th>\n",
       "      <td>1.803488</td>\n",
       "      <td>1.998760</td>\n",
       "      <td>-0.195272</td>\n",
       "    </tr>\n",
       "    <tr>\n",
       "      <th>2016-12-29</th>\n",
       "      <td>1.655585</td>\n",
       "      <td>1.930125</td>\n",
       "      <td>-0.274540</td>\n",
       "    </tr>\n",
       "    <tr>\n",
       "      <th>2016-12-30</th>\n",
       "      <td>1.540655</td>\n",
       "      <td>1.852231</td>\n",
       "      <td>-0.311576</td>\n",
       "    </tr>\n",
       "  </tbody>\n",
       "</table>\n",
       "<p>1069469 rows × 3 columns</p>\n",
       "</div>"
      ],
      "text/plain": [
       "                       macd  macdsignal  macdhist\n",
       "ticker date                                      \n",
       "A      2007-01-03       NaN         NaN       NaN\n",
       "       2007-01-04       NaN         NaN       NaN\n",
       "       2007-01-05       NaN         NaN       NaN\n",
       "       2007-01-08       NaN         NaN       NaN\n",
       "       2007-01-09       NaN         NaN       NaN\n",
       "...                     ...         ...       ...\n",
       "ZION   2016-12-23  1.967021    2.080357 -0.113336\n",
       "       2016-12-27  1.916461    2.047578 -0.131116\n",
       "       2016-12-28  1.803488    1.998760 -0.195272\n",
       "       2016-12-29  1.655585    1.930125 -0.274540\n",
       "       2016-12-30  1.540655    1.852231 -0.311576\n",
       "\n",
       "[1069469 rows x 3 columns]"
      ]
     },
     "execution_count": 41,
     "metadata": {},
     "output_type": "execute_result"
    }
   ],
   "source": [
    "macd_df"
   ]
  },
  {
   "cell_type": "markdown",
   "metadata": {},
   "source": [
    "## Momentum Indicators"
   ]
  },
  {
   "cell_type": "markdown",
   "metadata": {},
   "source": [
    "TA-Lib offers the following choices - feel free to experiment with as many as you like (but you don't have to..):"
   ]
  },
  {
   "cell_type": "markdown",
   "metadata": {},
   "source": [
    "|Function|             Name|\n",
    "|:---|:---|\n",
    "|PLUS_DM|              Plus Directional Movement|\n",
    "|MINUS_DM|             Minus Directional Movement|\n",
    "|PLUS_DI|              Plus Directional Indicator|\n",
    "|MINUS_DI|             Minus Directional Indicator|\n",
    "|DX|                   Directional Movement Index|\n",
    "|ADX|                  Average Directional Movement Index|\n",
    "|ADXR|                 Average Directional Movement Index Rating|\n",
    "|APO|                  Absolute Price Oscillator|\n",
    "|PPO|                  Percentage Price Oscillator|\n",
    "|AROON|                Aroon|\n",
    "|AROONOSC|             Aroon Oscillator|\n",
    "|BOP|                  Balance Of Power|\n",
    "|CCI|                  Commodity Channel Index|\n",
    "|CMO|                  Chande Momentum Oscillator|\n",
    "|MACD|                 Moving Average Convergence/Divergence|\n",
    "|MACDEXT|              MACD with controllable MA type|\n",
    "|MACDFIX|              Moving Average Convergence/Divergence Fix 12/26|\n",
    "|MFI|                  Money Flow Index|\n",
    "|MOM|                  Momentum|\n",
    "|RSI|                  Relative Strength Index|\n",
    "|STOCH|                Stochastic|\n",
    "|STOCHF|               Stochastic Fast|\n",
    "|STOCHRSI|             Stochastic Relative Strength Index|\n",
    "|TRIX|                 1-day Rate-Of-Change (ROC) of a Triple Smooth EMA|\n",
    "|ULTOSC|               Ultimate Oscillator|\n",
    "|WILLR|                Williams' %R|"
   ]
  },
  {
   "cell_type": "markdown",
   "metadata": {},
   "source": [
    "### Average Directional Movement Index (ADX)"
   ]
  },
  {
   "cell_type": "markdown",
   "metadata": {},
   "source": [
    "The ADX combines of two other indicators, namely the positive and directional indicators (PLUS_DI and MINUS_DI), which in turn build on the positive and directional movement (PLUS_DM and MINUS_DM). For additional details see [Wikipdia](https://en.wikipedia.org/wiki/Average_directional_movement_index) and [Investopedia](https://www.investopedia.com/articles/trading/07/adx-trend-indicator.asp)."
   ]
  },
  {
   "cell_type": "markdown",
   "metadata": {},
   "source": [
    "### Absolute Price Oscillator (APO)"
   ]
  },
  {
   "cell_type": "markdown",
   "metadata": {},
   "source": [
    "The absolute Price Oscillator (APO) is computed as the difference between two exponential moving averages (EMA) of price series, expressed as an absolute value. The EMA windows usually contain 26 and 12 data points, respectively."
   ]
  },
  {
   "cell_type": "markdown",
   "metadata": {},
   "source": [
    "### Percentage Price Oscillator (PPO)"
   ]
  },
  {
   "cell_type": "markdown",
   "metadata": {},
   "source": [
    "The Percentage Price Oscillator (APO) is computed as the difference between two exponential moving averages (EMA) of price series, expressed as a percentage value and thus comparable across assets. The EMA windows usually contain 26 and 12 data points, respectively. "
   ]
  },
  {
   "cell_type": "markdown",
   "metadata": {},
   "source": [
    "### Aroon Oscillator"
   ]
  },
  {
   "cell_type": "markdown",
   "metadata": {},
   "source": [
    "#### Aroon Up/Down Indicator"
   ]
  },
  {
   "cell_type": "markdown",
   "metadata": {},
   "source": [
    "The indicator measures the time between highs and the time between lows over a time period. It computes an AROON_UP and an AROON_DWN indicator as follows:\n",
    "\n",
    "$$\n",
    "\\begin{align*}\n",
    "\\text{AROON_UP}&=\\frac{T-\\text{Periods since T period High}}{T}\\times 100\\\\\n",
    "\\text{AROON_DWN}&=\\frac{T-\\text{Periods since T period Low}}{T}\\times 100\n",
    "\\end{align*}\n",
    "$$"
   ]
  },
  {
   "cell_type": "markdown",
   "metadata": {},
   "source": [
    "#### Aroon Oscillator"
   ]
  },
  {
   "cell_type": "markdown",
   "metadata": {},
   "source": [
    "The Aroon Oscillator is simply the difference between the Aroon Up and Aroon Down indicators."
   ]
  },
  {
   "cell_type": "markdown",
   "metadata": {},
   "source": [
    "### Balance Of Power (BOP)"
   ]
  },
  {
   "cell_type": "markdown",
   "metadata": {},
   "source": [
    "The Balance of Power (BOP) intends to measure the strength of buyers relative to sellers in the market by assessing the ability of each side to drive prices. It is computer as the difference between the close and the open price, divided by the difference between the high and the low price: \n",
    "\n",
    "$$\n",
    "\\text{BOP}_t= \\frac{P_t^\\text{Close}-P_t^\\text{Open}}{P_t^\\text{High}-P_t^\\text{Low}}\n",
    "$$"
   ]
  },
  {
   "cell_type": "markdown",
   "metadata": {},
   "source": [
    "### Commodity Channel Index (CCI)"
   ]
  },
  {
   "cell_type": "markdown",
   "metadata": {},
   "source": [
    "The Commodity Channel Index (CCI) measures the difference between the current *typical* price, computed as the average of current low, high and close price and the historical average price. A positive (negative) CCI indicates that price is above (below) the historic average. When CCI is below zero, the price is below the hsitoric average. It is computed as:\n",
    "\n",
    "$$\n",
    "\\begin{align*}\n",
    "\\bar{P_t}&=\\frac{P_t^H+P_t^L+P_t^C}{3}\\\\\n",
    "\\text{CCI}_t & =\\frac{\\bar{P_t} - \\text{SMA}(T)_t}{0.15\\sum_{t=i}^T |\\bar{P_t}-\\text{SMA}(N)_t|/T}\n",
    "\\end{align*}\n",
    "$$"
   ]
  },
  {
   "cell_type": "markdown",
   "metadata": {},
   "source": [
    "### Moving Average Convergence/Divergence (MACD)"
   ]
  },
  {
   "cell_type": "markdown",
   "metadata": {},
   "source": [
    "Moving Average Convergence Divergence (MACD) is a trend-following (lagging) momentum indicator that shows the relationship between two moving averages of a security’s price. It is calculated by subtracting the 26-period Exponential Moving Average (EMA) from the 12-period EMA.\n",
    "\n",
    "The TA-Lib implementation returns the MACD value and its signal line, which is the 9-day EMA of the MACD. In addition, the MACD-Histogram measures the distance between the indicator and its signal line."
   ]
  },
  {
   "cell_type": "markdown",
   "metadata": {},
   "source": [
    "### Chande Momentum Oscillator (CMO)"
   ]
  },
  {
   "cell_type": "markdown",
   "metadata": {},
   "source": [
    "The Chande Momentum Oscillator (CMO) intends to measure momentum on both up and down days. It is calculated as the difference between the sum of gains and losses over at time period T, divided by the sum of all price movement over the same period. It oscillates between +100 and -100."
   ]
  },
  {
   "cell_type": "markdown",
   "metadata": {},
   "source": [
    "### Money Flow Index"
   ]
  },
  {
   "cell_type": "markdown",
   "metadata": {},
   "source": [
    "The Money Flow Index (MFI) incorporates price and volume information to identify overbought or oversold conditions.  The indicator is typically calculated using 14 periods of data. An MFI reading above 80 is considered overbought and an MFI reading below 20 is considered oversold."
   ]
  },
  {
   "cell_type": "markdown",
   "metadata": {},
   "source": [
    "### Relative Strength Index"
   ]
  },
  {
   "cell_type": "markdown",
   "metadata": {},
   "source": [
    "RSI compares the magnitude of recent price changes across stocks to identify stocks as overbought or oversold. A high RSI (usually above 70) indicates overbought and a low RSI (typically below 30) indicates oversold. It first computes the average price change for a given number (often 14) of prior trading days with rising and falling prices, respectively as $\\text{up}_t$ and $\\text{down}_t$. Then, the RSI is computed as:\n",
    "$$\n",
    "\\text{RSI}_t=100-\\frac{100}{1+\\frac{\\text{up}_t}{\\text{down}_t}}\n",
    "$$\n",
    "\n"
   ]
  },
  {
   "cell_type": "markdown",
   "metadata": {},
   "source": [
    "#### Stochastic RSI (STOCHRSI)"
   ]
  },
  {
   "cell_type": "markdown",
   "metadata": {},
   "source": [
    "The Stochastic Relative Strength Index (STOCHRSI) is based on the RSI just described and intends to identify crossovers as well as overbought and oversold conditions. It compares the distance of the current RSI to the lowest RSI over a given time period T to the maximum range of values the RSI has assumed for this period. It is computed as follows:\n",
    "\n",
    "$$\n",
    "\\text{STOCHRSI}_t= \\frac{\\text{RSI}_t-\\text{RSI}_t^L(T)}{\\text{RSI}_t^H(T)-\\text{RSI}_t^L(T)}\n",
    "$$\n",
    "\n",
    "The TA-Lib implementation offers more flexibility than the original \"Unsmoothed stochastic RSI\" version by Chande and Kroll (1993). To calculate the original indicator, keep the `timeperiod` and `fastk_period` equal. \n",
    "\n",
    "The return value `fastk` is the unsmoothed RSI. The `fastd_period` is used to compute a smoothed STOCHRSI, which  is returned as `fastd`. If you do not care about STOCHRSI smoothing, just set `fastd_period` to 1 and ignore the `fastd` output.\n",
    "\n",
    "Reference: \"Stochastic RSI and Dynamic Momentum Index\" by Tushar Chande and Stanley Kroll Stock&Commodities V.11:5 (189-199)\n"
   ]
  },
  {
   "cell_type": "markdown",
   "metadata": {},
   "source": [
    "### Stochastic (STOCH)"
   ]
  },
  {
   "cell_type": "markdown",
   "metadata": {},
   "source": [
    "A stochastic oscillator is a momentum indicator comparing a particular closing price of a security to a range of its prices over a certain period of time. Stochastic oscillators are based on the idea that closing prices should confirm the trend."
   ]
  },
  {
   "cell_type": "markdown",
   "metadata": {},
   "source": [
    "For stochastic (STOCH), there are four different lines: `FASTK`, `FASTD`, `SLOWK` and `SLOWD`. The `D` is the signal line usually drawn over its corresponding `K` function.\n",
    "\n",
    "$$\n",
    "\\begin{align*}\n",
    "& K^\\text{Fast}(T_K) & = &\\frac{P_t-P_{T_K}^L}{P_{T_K}^H-P_{T_K}^L}* 100 \\\\\n",
    "& D^\\text{Fast}(T_{\\text{FastD}}) & = & \\text{MA}(T_{\\text{FastD}})[K^\\text{Fast}]\\\\\n",
    "& K^\\text{Slow}(T_{\\text{SlowK}}) & = &\\text{MA}(T_{\\text{SlowK}})[K^\\text{Fast}]\\\\\n",
    "& D^\\text{Slow}(T_{\\text{SlowD}}) & = &\\text{MA}(T_{\\text{SlowD}})[K^\\text{Slow}]\n",
    "\\end{align*}\n",
    "$$\n",
    "  \n",
    "\n",
    "The $P_{T_K}^L$, $P_{T_K}^H$, and $P_{T_K}^L$ are the extreme values among the last $T_K$ period.\n",
    " $K^\\text{Slow}$ and $D^\\text{Fast}$ are equivalent when using the same period. "
   ]
  },
  {
   "cell_type": "markdown",
   "metadata": {},
   "source": [
    "### Ultimate Oscillator (ULTOSC)"
   ]
  },
  {
   "cell_type": "markdown",
   "metadata": {},
   "source": [
    "The Ultimate Oscillator (ULTOSC), developed by Larry Williams, measures the average difference of the current close to the previous lowest price over three time frames (default: 7, 14, and 28) to avoid overreacting to short-term price changes and incorporat short, medium, and long-term market trends. It first computes the buying pressure, $\\text{BP}_t$, then sums it over the three periods $T_1, T_2, T_3$, normalized by the True Range ($\\text{TR}_t$.\n",
    "$$\n",
    "\\begin{align*}\n",
    "\\text{BP}_t & = P_t^\\text{Close}-\\min(P_{t-1}^\\text{Close}, P_t^\\text{Low})\\\\ \n",
    "\\text{TR}_t & = \\max(P_{t-1}^\\text{Close}, P_t^\\text{High})-\\min(P_{t-1}^\\text{Close}, P_t^\\text{Low})\n",
    "\\end{align*}\n",
    "$$\n",
    "\n",
    "ULTOSC is then computed as a weighted average over the three periods as follows:\n",
    "$$\n",
    "\\begin{align*}\n",
    "\\text{Avg}_t(T) & = \\frac{\\sum_{i=0}^{T-1} \\text{BP}_{t-i}}{\\sum_{i=0}^{T-1} \\text{TR}_{t-i}}\\\\\n",
    "\\text{ULTOSC}_t & = 100*\\frac{4\\text{Avg}_t(7) + 2\\text{Avg}_t(14) + \\text{Avg}_t(28)}{4+2+1}\n",
    "\\end{align*}\n",
    "$$"
   ]
  },
  {
   "cell_type": "markdown",
   "metadata": {},
   "source": [
    "### Williams' %R (WILLR)"
   ]
  },
  {
   "cell_type": "markdown",
   "metadata": {},
   "source": [
    "Williams %R, also known as the Williams Percent Range, is a momentum indicator that moves between 0 and -100 and measures overbought and oversold levels to identify entry and exit points. It is similar to the Stochastic oscillator and compares the current closing price $P_t^\\text{Close}$ to the range of highest ($P_T^\\text{High}$) and lowest ($P_T^\\text{Low}$) prices over the last T periods (typically 14). The indicators is computed as:\n",
    "\n",
    "$$\n",
    "\\text{WILLR}_t = \\frac{P_T^\\text{High}-P_t^\\text{Close}}{P_T^\\text{High}-P_T^\\text{Low}}\n",
    "$$\n"
   ]
  },
  {
   "cell_type": "markdown",
   "metadata": {},
   "source": [
    "## Volume Indicators"
   ]
  },
  {
   "cell_type": "markdown",
   "metadata": {},
   "source": [
    "|Function|             Name|\n",
    "|:---|:---|\n",
    "|AD|                   Chaikin A/D Line|\n",
    "|ADOSC|                Chaikin A/D Oscillator|\n",
    "|OBV|                  On Balance Volume|"
   ]
  },
  {
   "cell_type": "markdown",
   "metadata": {},
   "source": [
    "### Chaikin A/D Line"
   ]
  },
  {
   "cell_type": "markdown",
   "metadata": {},
   "source": [
    "The Chaikin Advance/Decline or Accumulation/Distribution Line (AD) is a volume-based indicator designed to measure the cumulative flow of money into and out of an asset. The indicator assumes that the degree of buying or selling pressure can be determined by the location of the close, relative to the high and low for the period. There is buying (sellng) pressure when a stock closes in the upper (lower) half of a period's range. The intention is to signal a change in direction when the indicator diverges from the security price.\n",
    "\n",
    "The Accumulation/Distribution Line is a running total of each period's Money Flow Volume. It is calculated as follows:\n",
    "\n",
    "1. The Money Flow Multiplier (MFI) is the relationship of the close to the high-low range:\n",
    "2. The MFI is multiplied by the period's volume $V_t$ to come up with a Money Flow Volume (MFV). \n",
    "3. A running total of the Money Flow Volume forms the Accumulation Distribution Line:\n",
    "$$\n",
    "\\begin{align*}\n",
    "&\\text{MFI}_t&=\\frac{P_t^\\text{Close}-P_t^\\text{Low}}{P_t^\\text{High}-P_t^\\text{Low}}\\\\\n",
    "&\\text{MFV}_t&=\\text{MFI}_t \\times V_t\\\\\n",
    "&\\text{AD}_t&=\\text{AD}_{t-1}+\\text{MFV}_t\n",
    "\\end{align*}\n",
    "$$"
   ]
  },
  {
   "cell_type": "markdown",
   "metadata": {},
   "source": [
    "### Chaikin A/D Oscillator (ADOSC)"
   ]
  },
  {
   "cell_type": "markdown",
   "metadata": {},
   "source": [
    "The Chaikin A/D Oscillator (ADOSC) is the Moving Average Convergence Divergence indicator (MACD) applied to the Chaikin A/D Line. The Chaikin Oscillator intends to predict changes in the Accumulation/Distribution Line.\n",
    "\n",
    "It is computed as the difference between the 3-day exponential moving average and the 10-day exponential moving average of the Accumulation/Distribution Line."
   ]
  },
  {
   "cell_type": "markdown",
   "metadata": {},
   "source": [
    "### On Balance Volume (OBV)"
   ]
  },
  {
   "cell_type": "markdown",
   "metadata": {},
   "source": [
    "The On Balance Volume indicator (OBV) is a cumulative momentum indicator that relates volume to price change. It assumes that OBV changes precede price changes because smart money can be seen flowing into the security by a rising OBV. When the public then moves into the security, both the security and OBV will rise.\n",
    "\n",
    "The current OBV is computed by adding (subtracting) the current volume to the last OBV if the security closes higher (lower) than the previous close.\n",
    "\n",
    "$$\n",
    "\\text{OBV}_t = \n",
    "\\begin{cases}\n",
    "\\text{OBV}_{t-1}+V_t & \\text{if }P_t>P_{t-1}\\\\\n",
    "\\text{OBV}_{t-1}-V_t & \\text{if }P_t<P_{t-1}\\\\\n",
    "\\text{OBV}_{t-1} & \\text{otherwise}\n",
    "\\end{cases}\n",
    "$$"
   ]
  },
  {
   "cell_type": "markdown",
   "metadata": {},
   "source": [
    "## Volatility Indicators"
   ]
  },
  {
   "cell_type": "markdown",
   "metadata": {},
   "source": [
    "|Function|             Name|\n",
    "|:---|:---|\n",
    "|TRANGE|               True Range|\n",
    "|ATR|                  Average True Range|\n",
    "|NATR|                 Normalized Average True Range|"
   ]
  },
  {
   "cell_type": "markdown",
   "metadata": {},
   "source": [
    "### ATR"
   ]
  },
  {
   "cell_type": "markdown",
   "metadata": {},
   "source": [
    "The Average True Range indicator (ATR) shows volatility of the market. It was introduced by Welles Wilder (1978)  and has been used as a component of numerous other indicators since. It aims to anticipate changes in trend such that the higher its value, the higher the probability of a trend change; the lower the indicator’s value, the weaker the current trend.\n",
    "\n",
    "It is computed as the simple moving average for a period T of the True Range (TRANGE), which measures volatility as the absolute value of the largest recent trading range:\n",
    "$$\n",
    "\\text{TRANGE}_t = \\max\\left[P_t^\\text{High} - P_t^\\text{low}, \\left| P_t^\\text{High} - P_{t-1}^\\text{Close}\\right|, \\left| P_t^\\text{low} - P_{t-1}^\\text{Close}\\right|\\right]\n",
    "$$"
   ]
  },
  {
   "cell_type": "markdown",
   "metadata": {},
   "source": [
    "### NATR"
   ]
  },
  {
   "cell_type": "markdown",
   "metadata": {},
   "source": [
    "The Normalized Average True Range (NATR) is a normalized version of the ATR computed as follows:\n",
    "\n",
    "$$\n",
    "\\text{NATR}_t = \\frac{\\text{ATR}_t(T)}{P_t^\\text{Close}} * 100\n",
    "$$\n",
    "\n",
    "Normalization make the ATR function more relevant in the folllowing scenarios:\n",
    "- Long term analysis where the price changes drastically.\n",
    "- Cross-market or cross-security ATR comparison."
   ]
  },
  {
   "cell_type": "markdown",
   "metadata": {},
   "source": [
    "## Rolling Factor Betas"
   ]
  },
  {
   "cell_type": "code",
   "execution_count": null,
   "metadata": {},
   "outputs": [],
   "source": []
  },
  {
   "cell_type": "markdown",
   "metadata": {},
   "source": [
    "## Persist results"
   ]
  },
  {
   "cell_type": "code",
   "execution_count": null,
   "metadata": {
    "ExecuteTime": {
     "end_time": "2020-07-14T13:19:11.145313Z",
     "start_time": "2020-07-14T13:19:10.820945Z"
    }
   },
   "outputs": [],
   "source": [
    "with pd.HDFStore(DATA_STORE) as store:\n",
    "    pass"
   ]
  }
 ],
 "metadata": {
  "kernelspec": {
   "display_name": "Python [conda env:liveproject] *",
   "language": "python",
   "name": "conda-env-liveproject-py"
  },
  "language_info": {
   "codemirror_mode": {
    "name": "ipython",
    "version": 3
   },
   "file_extension": ".py",
   "mimetype": "text/x-python",
   "name": "python",
   "nbconvert_exporter": "python",
   "pygments_lexer": "ipython3",
   "version": "3.8.12"
  },
  "toc": {
   "base_numbering": 1,
   "nav_menu": {},
   "number_sections": true,
   "sideBar": true,
   "skip_h1_title": true,
   "title_cell": "Table of Contents",
   "title_sidebar": "Contents",
   "toc_cell": false,
   "toc_position": {
    "height": "calc(100% - 180px)",
    "left": "10px",
    "top": "150px",
    "width": "512px"
   },
   "toc_section_display": true,
   "toc_window_display": true
  }
 },
 "nbformat": 4,
 "nbformat_minor": 4
}
