{
 "cells": [
  {
   "cell_type": "code",
   "execution_count": 1,
   "id": "be37e7ae",
   "metadata": {},
   "outputs": [],
   "source": [
    "import pandas as pd"
   ]
  },
  {
   "cell_type": "code",
   "execution_count": 2,
   "id": "7d02501a",
   "metadata": {},
   "outputs": [],
   "source": [
    "df = pd.read_csv('us_stocks.csv')"
   ]
  },
  {
   "cell_type": "code",
   "execution_count": 4,
   "id": "e354e56f",
   "metadata": {},
   "outputs": [],
   "source": [
    "df['date'] = pd.to_datetime(df['date'])"
   ]
  },
  {
   "cell_type": "code",
   "execution_count": 5,
   "id": "0482f192",
   "metadata": {},
   "outputs": [
    {
     "data": {
      "text/plain": [
       "Index(['ticker', 'date', 'open', 'high', 'low', 'close', 'volume',\n",
       "       'ex-dividend', 'split_ratio', 'adj_open', 'adj_high', 'adj_low',\n",
       "       'adj_close', 'adj_volume'],\n",
       "      dtype='object')"
      ]
     },
     "execution_count": 5,
     "metadata": {},
     "output_type": "execute_result"
    }
   ],
   "source": [
    "df = df[df['date']]"
   ]
  },
  {
   "cell_type": "code",
   "execution_count": 11,
   "id": "bc4d7fa5",
   "metadata": {},
   "outputs": [],
   "source": [
    "df = df[df['date'].dt.year > 1999]"
   ]
  },
  {
   "cell_type": "code",
   "execution_count": 13,
   "id": "4298219f",
   "metadata": {},
   "outputs": [],
   "source": [
    "df.set_index(['ticker', 'date'], inplace=True)"
   ]
  },
  {
   "cell_type": "code",
   "execution_count": 17,
   "id": "11d2974e",
   "metadata": {},
   "outputs": [],
   "source": [
    "df = df.drop(columns=['open', 'high', 'low', 'close', 'volume'])"
   ]
  },
  {
   "cell_type": "code",
   "execution_count": 19,
   "id": "17632a23",
   "metadata": {},
   "outputs": [],
   "source": [
    "df = df.rename(columns={'adj_open': 'open', 'adj_close': 'close', 'adj_low': 'low', 'adj_high': 'high', 'adj_volume': 'volume'})"
   ]
  },
  {
   "cell_type": "code",
   "execution_count": 20,
   "id": "428bba4a",
   "metadata": {},
   "outputs": [
    {
     "data": {
      "text/html": [
       "<div>\n",
       "<style scoped>\n",
       "    .dataframe tbody tr th:only-of-type {\n",
       "        vertical-align: middle;\n",
       "    }\n",
       "\n",
       "    .dataframe tbody tr th {\n",
       "        vertical-align: top;\n",
       "    }\n",
       "\n",
       "    .dataframe thead th {\n",
       "        text-align: right;\n",
       "    }\n",
       "</style>\n",
       "<table border=\"1\" class=\"dataframe\">\n",
       "  <thead>\n",
       "    <tr style=\"text-align: right;\">\n",
       "      <th></th>\n",
       "      <th></th>\n",
       "      <th>ex-dividend</th>\n",
       "      <th>split_ratio</th>\n",
       "      <th>open</th>\n",
       "      <th>high</th>\n",
       "      <th>low</th>\n",
       "      <th>close</th>\n",
       "      <th>volume</th>\n",
       "    </tr>\n",
       "    <tr>\n",
       "      <th>ticker</th>\n",
       "      <th>date</th>\n",
       "      <th></th>\n",
       "      <th></th>\n",
       "      <th></th>\n",
       "      <th></th>\n",
       "      <th></th>\n",
       "      <th></th>\n",
       "      <th></th>\n",
       "    </tr>\n",
       "  </thead>\n",
       "  <tbody>\n",
       "    <tr>\n",
       "      <th rowspan=\"5\" valign=\"top\">A</th>\n",
       "      <th>2000-01-03</th>\n",
       "      <td>0.0</td>\n",
       "      <td>1.0</td>\n",
       "      <td>53.726454</td>\n",
       "      <td>53.856080</td>\n",
       "      <td>45.969377</td>\n",
       "      <td>49.121329</td>\n",
       "      <td>3343600.0</td>\n",
       "    </tr>\n",
       "    <tr>\n",
       "      <th>2000-01-04</th>\n",
       "      <td>0.0</td>\n",
       "      <td>1.0</td>\n",
       "      <td>46.481058</td>\n",
       "      <td>46.992738</td>\n",
       "      <td>44.175084</td>\n",
       "      <td>45.369006</td>\n",
       "      <td>3408500.0</td>\n",
       "    </tr>\n",
       "    <tr>\n",
       "      <th>2000-01-05</th>\n",
       "      <td>0.0</td>\n",
       "      <td>1.0</td>\n",
       "      <td>45.198445</td>\n",
       "      <td>45.239380</td>\n",
       "      <td>41.828176</td>\n",
       "      <td>41.998737</td>\n",
       "      <td>4119200.0</td>\n",
       "    </tr>\n",
       "    <tr>\n",
       "      <th>2000-01-06</th>\n",
       "      <td>0.0</td>\n",
       "      <td>1.0</td>\n",
       "      <td>42.046493</td>\n",
       "      <td>42.298923</td>\n",
       "      <td>39.658651</td>\n",
       "      <td>40.934441</td>\n",
       "      <td>1812900.0</td>\n",
       "    </tr>\n",
       "    <tr>\n",
       "      <th>2000-01-07</th>\n",
       "      <td>0.0</td>\n",
       "      <td>1.0</td>\n",
       "      <td>40.293135</td>\n",
       "      <td>44.986951</td>\n",
       "      <td>40.252200</td>\n",
       "      <td>44.345645</td>\n",
       "      <td>2016900.0</td>\n",
       "    </tr>\n",
       "    <tr>\n",
       "      <th>...</th>\n",
       "      <th>...</th>\n",
       "      <td>...</td>\n",
       "      <td>...</td>\n",
       "      <td>...</td>\n",
       "      <td>...</td>\n",
       "      <td>...</td>\n",
       "      <td>...</td>\n",
       "      <td>...</td>\n",
       "    </tr>\n",
       "    <tr>\n",
       "      <th rowspan=\"5\" valign=\"top\">ZUMZ</th>\n",
       "      <th>2018-03-21</th>\n",
       "      <td>0.0</td>\n",
       "      <td>1.0</td>\n",
       "      <td>23.800000</td>\n",
       "      <td>24.600000</td>\n",
       "      <td>23.605800</td>\n",
       "      <td>23.950000</td>\n",
       "      <td>354092.0</td>\n",
       "    </tr>\n",
       "    <tr>\n",
       "      <th>2018-03-22</th>\n",
       "      <td>0.0</td>\n",
       "      <td>1.0</td>\n",
       "      <td>23.900000</td>\n",
       "      <td>24.350000</td>\n",
       "      <td>23.300000</td>\n",
       "      <td>23.350000</td>\n",
       "      <td>269607.0</td>\n",
       "    </tr>\n",
       "    <tr>\n",
       "      <th>2018-03-23</th>\n",
       "      <td>0.0</td>\n",
       "      <td>1.0</td>\n",
       "      <td>23.550000</td>\n",
       "      <td>24.200000</td>\n",
       "      <td>23.450000</td>\n",
       "      <td>23.550000</td>\n",
       "      <td>301584.0</td>\n",
       "    </tr>\n",
       "    <tr>\n",
       "      <th>2018-03-26</th>\n",
       "      <td>0.0</td>\n",
       "      <td>1.0</td>\n",
       "      <td>23.750000</td>\n",
       "      <td>24.800000</td>\n",
       "      <td>23.700000</td>\n",
       "      <td>24.650000</td>\n",
       "      <td>375320.0</td>\n",
       "    </tr>\n",
       "    <tr>\n",
       "      <th>2018-03-27</th>\n",
       "      <td>0.0</td>\n",
       "      <td>1.0</td>\n",
       "      <td>24.650000</td>\n",
       "      <td>24.650000</td>\n",
       "      <td>23.350000</td>\n",
       "      <td>23.600000</td>\n",
       "      <td>403884.0</td>\n",
       "    </tr>\n",
       "  </tbody>\n",
       "</table>\n",
       "<p>11343920 rows × 7 columns</p>\n",
       "</div>"
      ],
      "text/plain": [
       "                   ex-dividend  split_ratio       open       high        low  \\\n",
       "ticker date                                                                    \n",
       "A      2000-01-03          0.0          1.0  53.726454  53.856080  45.969377   \n",
       "       2000-01-04          0.0          1.0  46.481058  46.992738  44.175084   \n",
       "       2000-01-05          0.0          1.0  45.198445  45.239380  41.828176   \n",
       "       2000-01-06          0.0          1.0  42.046493  42.298923  39.658651   \n",
       "       2000-01-07          0.0          1.0  40.293135  44.986951  40.252200   \n",
       "...                        ...          ...        ...        ...        ...   \n",
       "ZUMZ   2018-03-21          0.0          1.0  23.800000  24.600000  23.605800   \n",
       "       2018-03-22          0.0          1.0  23.900000  24.350000  23.300000   \n",
       "       2018-03-23          0.0          1.0  23.550000  24.200000  23.450000   \n",
       "       2018-03-26          0.0          1.0  23.750000  24.800000  23.700000   \n",
       "       2018-03-27          0.0          1.0  24.650000  24.650000  23.350000   \n",
       "\n",
       "                       close     volume  \n",
       "ticker date                              \n",
       "A      2000-01-03  49.121329  3343600.0  \n",
       "       2000-01-04  45.369006  3408500.0  \n",
       "       2000-01-05  41.998737  4119200.0  \n",
       "       2000-01-06  40.934441  1812900.0  \n",
       "       2000-01-07  44.345645  2016900.0  \n",
       "...                      ...        ...  \n",
       "ZUMZ   2018-03-21  23.950000   354092.0  \n",
       "       2018-03-22  23.350000   269607.0  \n",
       "       2018-03-23  23.550000   301584.0  \n",
       "       2018-03-26  24.650000   375320.0  \n",
       "       2018-03-27  23.600000   403884.0  \n",
       "\n",
       "[11343920 rows x 7 columns]"
      ]
     },
     "execution_count": 20,
     "metadata": {},
     "output_type": "execute_result"
    }
   ],
   "source": [
    "df"
   ]
  },
  {
   "cell_type": "code",
   "execution_count": 21,
   "id": "77009668",
   "metadata": {},
   "outputs": [],
   "source": [
    "df.to_hdf('us_stocks.h5', key='df', mode='w')"
   ]
  },
  {
   "cell_type": "code",
   "execution_count": null,
   "id": "b0845b0c",
   "metadata": {},
   "outputs": [],
   "source": []
  }
 ],
 "metadata": {
  "kernelspec": {
   "display_name": "Python [conda env:liveproject] *",
   "language": "python",
   "name": "conda-env-liveproject-py"
  },
  "language_info": {
   "codemirror_mode": {
    "name": "ipython",
    "version": 3
   },
   "file_extension": ".py",
   "mimetype": "text/x-python",
   "name": "python",
   "nbconvert_exporter": "python",
   "pygments_lexer": "ipython3",
   "version": "3.8.12"
  }
 },
 "nbformat": 4,
 "nbformat_minor": 5
}
